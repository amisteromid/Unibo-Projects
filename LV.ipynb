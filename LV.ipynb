{
 "cells": [
  {
   "cell_type": "markdown",
   "metadata": {},
   "source": [
    "***\n",
    "Faezeh Karimi & Kimia Kimiagari & Hossein Nouri Alavijeh\n",
    "***"
   ]
  },
  {
   "cell_type": "code",
   "execution_count": null,
   "metadata": {},
   "outputs": [],
   "source": [
    "!pip install import_ipynb"
   ]
  },
  {
   "cell_type": "code",
   "execution_count": 3,
   "metadata": {},
   "outputs": [],
   "source": [
    "import import_ipynb\n",
    "import modified_util as ut\n",
    "\n",
    "from scipy.integrate import odeint \n",
    "import numpy as np"
   ]
  },
  {
   "cell_type": "markdown",
   "metadata": {},
   "source": [
    "examples for parameters\n",
    "\n",
    "a = 1   \n",
    "b = 0.5   \n",
    "c = 5.2   \n",
    "d = 0.5   \n",
    "k = 30   \n",
    "\n",
    "A2 = 4.0   \n",
    "B2 = 0.5   \n",
    "C2 = 1.9   \n",
    "D2 = 0.5   \n",
    "in the LV, trace is always 0 and determinant is equal to a*c, so with a>0 and c>0 we have one saddle point and one center"
   ]
  },
  {
   "cell_type": "code",
   "execution_count": 6,
   "metadata": {},
   "outputs": [
    {
     "name": "stdout",
     "output_type": "stream",
     "text": [
      "type 1 for Logistic Lotka-Volterra and 2 for Lotka-Volterra2\n",
      "xdot = a*x  - b*x*y  \n",
      "ydot = -c*y + d*x*y\n",
      "instert a:-2\n",
      "instert b:0.5\n",
      "instert c:1.9\n",
      "instert d:0.5\n",
      "[(0.0, 0.0), (3.80000000000000, -4.00000000000000)]\n",
      "\n",
      "\n",
      "\n",
      "Stable Node\n",
      "[-2.  -1.9]\n",
      "Saddle Point\n",
      "[ 1.94935887 -1.94935887]\n"
     ]
    },
    {
     "data": {
      "image/png": "[encoded data removed]",
      "text/plain": [
       "<Figure size 432x288 with 1 Axes>"
      ]
     },
     "metadata": {
      "needs_background": "light"
     },
     "output_type": "display_data"
    },
    {
     "data": {
      "image/png": "[encoded data removed]",
      "text/plain": [
       "<Figure size 432x288 with 1 Axes>"
      ]
     },
     "metadata": {
      "needs_background": "light"
     },
     "output_type": "display_data"
    }
   ],
   "source": [
    "time_line = np.linspace(0, 10, 1000)\n",
    "init = [0,2]\n",
    "t = 1\n",
    "lv = int(input(\"type 1 for Logistic Lotka-Volterra and 2 for Lotka-Volterra\"))\n",
    "if lv == 1:\n",
    "    print('xdot = a*(1-x/k)*x - b*x*y \\nydot = -c*y + d*x*y')\n",
    "    a= float(input(\"insert a: \"))\n",
    "    b= float(input(\"insert b: \"))\n",
    "    c= float(input(\"insert c: \"))\n",
    "    d= float(input(\"insert d: \"))\n",
    "    k= float(input(\"insert k: \"))\n",
    "    param = (A,B,C,D,K)\n",
    "\n",
    "    if k>c/d == True:\n",
    "            print(\"Model has 3 real steady states\")\n",
    "    st_states = ut.steady_states_computation(ut.LV_log, param, print_ask = True)\n",
    "    print (\"\\n\\n\")\n",
    "    for ss in st_states:\n",
    "        print (ut.stability_check(ut.LV_log, param, ss))\n",
    "    \n",
    "    ic = [[0,4], [7,0],[20,3], [2,5]]\n",
    "        \n",
    "    solu = ut.integrator(ut.LV_log,ic, param)\n",
    "\n",
    "    ut.phase_space_plot(solu, st_states, \"Prey\", \"Predators\", marksize = 9, model_name = \"Logistic Lotka-Volterra\")\n",
    "else:\n",
    "    print (\"xdot = a*x  - b*x*y  \\nydot = -c*y + d*x*y\")\n",
    "    A2 = float(input(\"instert a:\"))\n",
    "    B2 = float(input(\"instert b:\"))\n",
    "    C2 = float(input(\"instert c:\"))\n",
    "    D2 = float(input(\"instert d:\"))\n",
    "    param2 = (A2,B2,C2,D2)\n",
    "    \n",
    "    st_states_2 = ut.steady_states_computation(ut.LV,param2)\n",
    "    print(st_states_2)\n",
    "    print (\"\\n\\n\")\n",
    "    for ss in st_states_2:\n",
    "        print (ut.stability_check(ut.LV,param2,ss))\n",
    "        \n",
    "    ic2 = [[1,2],[6,9],[0,10]]\n",
    "    solu2 = ut.integrator(ut.LV,[10,0], param2, fin_time = 5)\n",
    "\n",
    "    ut.phase_space_plot(solu2, st_states_2, \"Prey\", \"Predators\", marksize = 10, model_name = \"Lotka-Volterra\")\n",
    "    \n",
    "    ic3 = [[0.1, 0.1], [0, 80],[0.51,0.01]]\n",
    "    solu3 = ut.integrator(ut.LV,ic3, param2, fin_time = 15)\n",
    "\n",
    "    ut.phase_space_plot(solu3,st_states_2, \"Prey\", \"Predators\", marksize = 10, model_name = \"Lotka-Volterra\")\n",
    "    "
   ]
  },
  {
   "cell_type": "code",
   "execution_count": null,
   "metadata": {},
   "outputs": [],
   "source": []
  }
 ],
 "metadata": {
  "kernelspec": {
   "display_name": "Python 3 (ipykernel)",
   "language": "python",
   "name": "python3"
  },
  "language_info": {
   "codemirror_mode": {
    "name": "ipython",
    "version": 3
   },
   "file_extension": ".py",
   "mimetype": "text/x-python",
   "name": "python",
   "nbconvert_exporter": "python",
   "pygments_lexer": "ipython3",
   "version": "3.9.7"
  }
 },
 "nbformat": 4,
 "nbformat_minor": 4
}
